{
 "cells": [
  {
   "cell_type": "code",
   "execution_count": 1,
   "id": "b7128d62",
   "metadata": {},
   "outputs": [],
   "source": [
    "# Célula 1: Importar bibliotecas\n",
    "import pandas as pd\n",
    "import numpy as np\n",
    "import os\n",
    "import sys\n",
    "import plotly.express as px"
   ]
  },
  {
   "cell_type": "code",
   "execution_count": 2,
   "id": "03693eb3",
   "metadata": {},
   "outputs": [
    {
     "name": "stdout",
     "output_type": "stream",
     "text": [
      "Bibliotecas importadas e caminho do projeto configurado com sucesso.\n"
     ]
    }
   ],
   "source": [
    "\n",
    "# Adiciona o diretório 'src' ao caminho do sistema para que possamos importar nosso módulo\n",
    "# Isso garante que o notebook encontre o db_connector.py\n",
    "module_path = os.path.abspath(os.path.join('..'))\n",
    "if module_path not in sys.path:\n",
    "    sys.path.append(module_path)\n",
    "\n",
    "from src.db_connector import get_db_connection, get_raw_data\n",
    "\n",
    "print(\"Bibliotecas importadas e caminho do projeto configurado com sucesso.\")\n"
   ]
  },
  {
   "cell_type": "code",
   "execution_count": 3,
   "id": "844eb21c",
   "metadata": {},
   "outputs": [
    {
     "name": "stdout",
     "output_type": "stream",
     "text": [
      "Conexão com o banco de dados estabelecida.\n",
      "Dados de Estoque carregados: 6762 linhas.\n"
     ]
    }
   ],
   "source": [
    "engine = get_db_connection()\n",
    "\n",
    "if engine:\n",
    "    print(\"Conexão com o banco de dados estabelecida.\")\n",
    "\n",
    "    with open('../sql/Estoque REF - GRI.sql', 'r') as file:\n",
    "        query_estoque = file.read()\n",
    "\n",
    "    df_estoque_raw = get_raw_data(query_estoque, engine)\n",
    "\n",
    "\n",
    "    print(f\"Dados de Estoque carregados: {len(df_estoque_raw)} linhas.\")\n",
    "    #print(f\"Dados de Fechamento carregados: {len(df_fechamento_raw)} linhas.\")\n",
    "else:\n",
    "    print(\"Falha na conexão com o banco de dados.\")\n",
    "\n",
    "df_estoque = df_estoque_raw.copy()\n",
    "\n"
   ]
  },
  {
   "cell_type": "code",
   "execution_count": 4,
   "id": "f1a3c093",
   "metadata": {},
   "outputs": [
    {
     "name": "stdout",
     "output_type": "stream",
     "text": [
      "Conexão com o banco de dados estabelecida.\n",
      "Dados do fechamento FKM carregados: 25492 linhas.\n"
     ]
    }
   ],
   "source": [
    "engine = get_db_connection()\n",
    "\n",
    "if engine:\n",
    "    print(\"Conexão com o banco de dados estabelecida.\")\n",
    "    \n",
    "    \n",
    "    with open('../sql/Fechamento FKM.sql', 'r', encoding='utf-8') as file:\n",
    "        query_fechamento = file.read()\n",
    "        \n",
    "    \n",
    "    \n",
    "    df_fechamento_raw = get_raw_data(query_fechamento, engine)\n",
    "    \n",
    "    print(f\"Dados do fechamento FKM carregados: {len(df_fechamento_raw)} linhas.\")\n",
    "    \n",
    "else:\n",
    "    print(\"Falha na conexão com o banco de dados.\")\n",
    "    \n",
    "df_fechamento = df_fechamento_raw.copy()"
   ]
  },
  {
   "cell_type": "code",
   "execution_count": 5,
   "id": "6196ef8e",
   "metadata": {},
   "outputs": [
    {
     "name": "stdout",
     "output_type": "stream",
     "text": [
      "<class 'pandas.core.frame.DataFrame'>\n",
      "RangeIndex: 6762 entries, 0 to 6761\n",
      "Data columns (total 21 columns):\n",
      " #   Column                Non-Null Count  Dtype         \n",
      "---  ------                --------------  -----         \n",
      " 0   DataAtualizacaoDados  6762 non-null   datetime64[ns]\n",
      " 1   IdVeiculo             6762 non-null   int64         \n",
      " 2   Chassi                6762 non-null   object        \n",
      " 3   Placa                 6762 non-null   object        \n",
      " 4   RENAVAM               6614 non-null   object        \n",
      " 5   IdCorVeiculo          6762 non-null   int64         \n",
      " 6   Cor                   6762 non-null   object        \n",
      " 7   AnoModelo             6762 non-null   int64         \n",
      " 8   AnoFabricacao         6762 non-null   int64         \n",
      " 9   IdModelo              6762 non-null   int64         \n",
      " 10  Modelo                6762 non-null   object        \n",
      " 11  IdMontadora           6762 non-null   int64         \n",
      " 12  Montadora             6762 non-null   object        \n",
      " 13  IdGrupoVeiculo        6762 non-null   int64         \n",
      " 14  GrupoVeiculo          6762 non-null   object        \n",
      " 15  IdFilial              6762 non-null   int64         \n",
      " 16  Filial                6762 non-null   object        \n",
      " 17  FilialOperacional     6762 non-null   object        \n",
      " 18  SituacaoFinanceira    6762 non-null   object        \n",
      " 19  ComSeguroVigente      6762 non-null   bool          \n",
      " 20  Proprietario          6762 non-null   object        \n",
      "dtypes: bool(1), datetime64[ns](1), int64(8), object(11)\n",
      "memory usage: 1.0+ MB\n"
     ]
    }
   ],
   "source": [
    "df_estoque.info()"
   ]
  },
  {
   "cell_type": "code",
   "execution_count": 6,
   "id": "dc48a96c",
   "metadata": {},
   "outputs": [
    {
     "name": "stdout",
     "output_type": "stream",
     "text": [
      "<class 'pandas.core.frame.DataFrame'>\n",
      "RangeIndex: 25492 entries, 0 to 25491\n",
      "Data columns (total 40 columns):\n",
      " #   Column                        Non-Null Count  Dtype         \n",
      "---  ------                        --------------  -----         \n",
      " 0   IdNF                          25492 non-null  int64         \n",
      " 1   NumeroNF                      25492 non-null  object        \n",
      " 2   OrdemServico                  25492 non-null  object        \n",
      " 3   Ocorrencia                    25492 non-null  object        \n",
      " 4   OrdemCompra                   25492 non-null  object        \n",
      " 5   Placa                         25492 non-null  object        \n",
      " 6   IdVeiculo                     25492 non-null  int64         \n",
      " 7   DescricaoItem                 25492 non-null  object        \n",
      " 8   TipoItem                      25492 non-null  object        \n",
      " 9   Tipo                          25492 non-null  object        \n",
      " 10  TipoOrdemCompra               25492 non-null  object        \n",
      " 11  IdGrupoDespesa                25492 non-null  int64         \n",
      " 12  GrupoDespesa                  25492 non-null  object        \n",
      " 13  CodigoCompleto                25492 non-null  object        \n",
      " 14  DescricaoCompleta             25492 non-null  object        \n",
      " 15  Quantidade                    25492 non-null  int64         \n",
      " 16  ValorUnitario                 25492 non-null  float64       \n",
      " 17  ValorTotal                    25492 non-null  float64       \n",
      " 18  SituacaoOrdemServico          25492 non-null  object        \n",
      " 19  SituacaoOcorrencia            25492 non-null  object        \n",
      " 20  SituacaoVeiculo               25492 non-null  object        \n",
      " 21  IdUnidadeDeFaturamento        25492 non-null  int64         \n",
      " 22  UnidadeDeFaturamento          25492 non-null  object        \n",
      " 23  IdFilialOperacional           25492 non-null  int64         \n",
      " 24  FilialOperacional             25492 non-null  object        \n",
      " 25  DataCriacao                   25492 non-null  datetime64[ns]\n",
      " 26  DataCriacaoOrdemServico       25492 non-null  datetime64[ns]\n",
      " 27  DataCriacaoOcorrencia         25492 non-null  datetime64[ns]\n",
      " 28  DataEmissao                   25492 non-null  object        \n",
      " 29  DataEntrada                   25492 non-null  object        \n",
      " 30  IdFornecedor                  25492 non-null  int64         \n",
      " 31  Fornecedor                    25492 non-null  object        \n",
      " 32  IdContratoComercial           14016 non-null  float64       \n",
      " 33  UnidadeDeFaturamentoContrato  14016 non-null  object        \n",
      " 34  CriadoPor                     25492 non-null  object        \n",
      " 35  IdUsuario                     17087 non-null  float64       \n",
      " 36  Nome                          17087 non-null  object        \n",
      " 37  NaturezaFinanceira            25492 non-null  object        \n",
      " 38  FILIAL                        25492 non-null  object        \n",
      " 39  Natureza_Correta              25492 non-null  object        \n",
      "dtypes: datetime64[ns](3), float64(4), int64(7), object(26)\n",
      "memory usage: 7.8+ MB\n"
     ]
    }
   ],
   "source": [
    "df_fechamento.info()"
   ]
  },
  {
   "cell_type": "code",
   "execution_count": 7,
   "id": "d1ae1992",
   "metadata": {},
   "outputs": [
    {
     "name": "stdout",
     "output_type": "stream",
     "text": [
      "\n",
      "Tipos de dados após o tratamento:\n",
      "<class 'pandas.core.frame.DataFrame'>\n",
      "RangeIndex: 25492 entries, 0 to 25491\n",
      "Data columns (total 3 columns):\n",
      " #   Column       Non-Null Count  Dtype         \n",
      "---  ------       --------------  -----         \n",
      " 0   DataCriacao  25492 non-null  datetime64[ns]\n",
      " 1   DataEntrada  25492 non-null  datetime64[ns]\n",
      " 2   Mes/Ano      25492 non-null  period[M]     \n",
      "dtypes: datetime64[ns](2), period[M](1)\n",
      "memory usage: 597.6 KB\n",
      "None\n",
      "\n",
      "Visualização das colunas tratadas:\n",
      "              DataCriacao DataEntrada  Mes/Ano\n",
      "0 2025-07-02 17:38:57.477  2025-07-01  2025-07\n",
      "1 2025-07-02 17:38:57.957  2025-07-01  2025-07\n",
      "2 2025-07-02 17:38:57.477  2025-07-01  2025-07\n",
      "3 2025-07-02 17:38:57.477  2025-07-01  2025-07\n",
      "4 2025-07-02 17:38:57.477  2025-07-01  2025-07\n"
     ]
    }
   ],
   "source": [
    "# Célula de Tratamento de Datas no df_fechamento\n",
    "\n",
    "# --- 1. Padronizar as colunas de data ---\n",
    "# Primeiro, vamos garantir que a coluna 'DataCriacao' também seja do tipo datetime.\n",
    "# Usar errors='coerce' é uma boa prática para evitar erros com dados inválidos.\n",
    "df_fechamento['DataCriacao'] = pd.to_datetime(df_fechamento['DataCriacao'], errors='coerce')\n",
    "df_fechamento['DataEntrada'] = pd.to_datetime(df_fechamento['DataEntrada'], errors='coerce')\n",
    "\n",
    "# Verificar se alguma data falhou na conversão (opcional, mas bom para depuração)\n",
    "datas_invalidas_criacao = df_fechamento['DataCriacao'].isnull().sum()\n",
    "datas_invalidas_entrada = df_fechamento['DataEntrada'].isnull().sum()\n",
    "\n",
    "if datas_invalidas_criacao > 0:\n",
    "    print(f\"Aviso: {datas_invalidas_criacao} valores na coluna 'DataCriacao' não puderam ser convertidos para data.\")\n",
    "if datas_invalidas_entrada > 0:\n",
    "    print(f\"Aviso: {datas_invalidas_entrada} valores na coluna 'DataEntrada' não puderam ser convertidos para data.\")\n",
    "\n",
    "\n",
    "# --- 2. Criar a coluna 'Mes/Ano' ---\n",
    "# Sua lógica original está perfeita. Ela cria um objeto do tipo 'Period'.\n",
    "df_fechamento['Mes/Ano'] = df_fechamento['DataCriacao'].dt.to_period('M')\n",
    "\n",
    "\n",
    "# --- 3. (Opcional) Criar a coluna 'Mes/Ano' como texto ---\n",
    "# Se, por algum motivo, você precisar do formato 'AAAA-MM' como texto (string), \n",
    "# você pode usar o método strftime. Isso é útil para alguns tipos de gráficos ou relatórios.\n",
    "# df_fechamento['Mes/Ano_Texto'] = df_fechamento['DataCriacao'].dt.strftime('%Y-%m')\n",
    "\n",
    "\n",
    "# --- 4. Visualizar o resultado ---\n",
    "# Mostra as colunas relevantes para confirmar que o tratamento funcionou.\n",
    "colunas_para_verificar = ['DataCriacao', 'DataEntrada', 'Mes/Ano']\n",
    "print(\"\\nTipos de dados após o tratamento:\")\n",
    "print(df_fechamento[colunas_para_verificar].info())\n",
    "\n",
    "print(\"\\nVisualização das colunas tratadas:\")\n",
    "print(df_fechamento[colunas_para_verificar].head())\n"
   ]
  },
  {
   "cell_type": "code",
   "execution_count": 8,
   "id": "1cd6d70e",
   "metadata": {},
   "outputs": [],
   "source": [
    "mapa_regiao_correto = {\n",
    "    # --- MAPEAMENTO DA IMAGEM ORIGINAL ---\n",
    "    'Gritsch Curitiba Base': 'SUL',\n",
    "    'Gritsch Maringá': 'SUL',\n",
    "    'Gritsch Florianópolis': 'SUL',\n",
    "    'Gritsch Campo Grande': 'CENTRO OESTE',\n",
    "    'Gritsch Blumenau': 'SUL',\n",
    "    'Gritsch Cascavel': 'SUL',\n",
    "    'Gritsch Porto Alegre': 'SUL',\n",
    "    'Gritsch São Paulo (Perus)': 'SUDESTE',\n",
    "    'Gritsch Goiânia': 'CENTRO OESTE',\n",
    "    'Gritsch Brasília': 'CENTRO OESTE',\n",
    "    'Gritsch Rondonópolis': 'CENTRO OESTE',\n",
    "    'Gritsch São Paulo (Freguesia)': 'SUDESTE',\n",
    "    'Gritsch Chapecó': 'SUL',\n",
    "    'Gritsch Joinville': 'SUL',\n",
    "    'Gritsch Londrina': 'SUL',\n",
    "    'Gritsch Curitibanos': 'SUL',\n",
    "    'Gritsch Criciuma': 'SUL',\n",
    "    'Gritsch Sinop': 'CENTRO OESTE',\n",
    "    'Gritsch Pato Branco': 'SUL',\n",
    "    'Gritsch Cuiabá': 'CENTRO OESTE',\n",
    "    'Gritsch Rio Verde': 'CENTRO OESTE',\n",
    "    'Gritsch Laranjeiras do Sul': 'SUL',\n",
    "    'Gritsch Itumbiara': 'CENTRO OESTE',\n",
    "    'Gritsch Ponta Grossa': 'SUL',\n",
    "    'Gritsch Curitiba ECT': 'SUL',\n",
    "    'Gritsch Salvador': 'NORDESTE',\n",
    "    'Gritsch Guarapuava': 'SUL',\n",
    "    'Gritsch Palmas': 'NORTE',\n",
    "\n",
    "    # --- MAPEAMENTO DA LISTA DE NÃO ENCONTRADOS ---\n",
    "    # SUDESTE\n",
    "    'REFERÊNCIA SÃO PAULO': 'SUDESTE',\n",
    "    'REFERÊNCIA RIBEIRAO PRETO': 'SUDESTE',\n",
    "    'GRITSCH - SAO (PERUS)': 'SUDESTE',\n",
    "    'GRITSCH - SAO (FREGUESIA)': 'SUDESTE',\n",
    "    'GRITSCH - MATRIZ': 'SUDESTE',\n",
    "    'GRITSCH - PGR': 'SUL', # \n",
    "    'GRITSCH - ITR': 'CENTRO OESTE', \n",
    "\n",
    "    # SUL\n",
    "    'REFERÊNCIA FOZ DO IGUAÇU': 'SUL',\n",
    "    'REFERÊNCIA CURITIBA': 'SUL',\n",
    "    'REFERÊNCIA MARINGÁ': 'SUL',\n",
    "    'GRITSCH - CWB (BASE)': 'SUL',\n",
    "    'GRITSCH - FLN': 'SUL',\n",
    "    'GRITSCH - BLN': 'SUL',\n",
    "    'GRITSCH - POA': 'SUL',\n",
    "    'GRITSCH - LDB': 'SUL',\n",
    "    'GRITSCH - CSC': 'SUL',\n",
    "    'GRITSCH - CWB (ECT)': 'SUL',\n",
    "    'GRITSCH - CHA': 'SUL',\n",
    "    'GRITSCH - CRI': 'SUL',\n",
    "    'GRITSCH - PBC': 'SUL',\n",
    "    'GRITSCH - CTB': 'SUL',\n",
    "    'GRITSCH - GPA': 'SUL',\n",
    "    'GRITSCH - MGA': 'SUL',\n",
    "    'GRITSCH - CWB (DIR)': 'SUL',\n",
    "    'GRITSCH - JOI': 'SUL',\n",
    "\n",
    "    # CENTRO-OESTE\n",
    "    'REFERÊNCIA GOIÂNIA LOJA': 'CENTRO OESTE',\n",
    "    'REFERÊNCIA BRASILIA': 'CENTRO OESTE',\n",
    "    'REFERÊNCIA CUIABÁ LOJA': 'CENTRO OESTE',\n",
    "    'REFERÊNCIA SINOP': 'CENTRO OESTE',\n",
    "    'GRITSCH - SNO': 'CENTRO OESTE',\n",
    "    'GRITSCH - RDN': 'CENTRO OESTE',\n",
    "    'GRITSCH - GOI': 'CENTRO OESTE',\n",
    "    'GRITSCH - CGB': 'CENTRO OESTE',\n",
    "    'GRITSCH - CGR': 'CENTRO OESTE',\n",
    "    'GRITSCH - RVD': 'CENTRO OESTE',\n",
    "    'REFERÊNCIA GOIÂNIA AV RIO VERDE': 'CENTRO OESTE',\n",
    "    'GRITSCH - BSB': 'CENTRO OESTE',\n",
    "    'GRITSCH - CBL': 'CENTRO OESTE',\n",
    "\n",
    "    # NORDESTE\n",
    "    'REFERÊNCIA SALVADOR': 'NORDESTE',\n",
    "    'REFERÊNCIA LUIS EDUARDO MAGALHÃES': 'NORDESTE',\n",
    "    'REFERÊNCIA BALSAS': 'NORDESTE',\n",
    "    'GRITSCH - SSA': 'NORDESTE',\n",
    "\n",
    "    # NORTE\n",
    "    'REFERÊNCIA ARAGUAÍNA': 'NORTE',\n",
    "    'REFERÊNCIA VILHENA': 'NORTE',\n",
    "\n",
    "    # RATEIOS (Assumidos como Sul/Matriz)\n",
    "    'RATEIO - REF': 'RATEIO',\n",
    "    'RATEIO GRI/REF': 'RATEIO',\n",
    "    'RATEIO - GRI': 'RATEIO'\n",
    "\n",
    "}\n"
   ]
  },
  {
   "cell_type": "code",
   "execution_count": 9,
   "id": "b3750b9d",
   "metadata": {},
   "outputs": [
    {
     "name": "stdout",
     "output_type": "stream",
     "text": [
      "Todas as filiais foram mapeadas com sucesso.\n"
     ]
    }
   ],
   "source": [
    "nome_coluna_filial = \"FILIAL\"\n",
    "\n",
    "df_fechamento['Regiao'] = df_fechamento[nome_coluna_filial].map(mapa_regiao_correto)\n",
    "\n",
    "filiais_nao_mapeadas = df_fechamento[df_fechamento['Regiao'].isnull()][nome_coluna_filial].unique()\n",
    "\n",
    "if len (filiais_nao_mapeadas) >0:\n",
    "    print(\"Filiais não mapeadas encontradas:\")\n",
    "    print(filiais_nao_mapeadas)\n",
    "    \n",
    "    df_fechamento['Regiao'] = df_fechamento['Regiao'].fillna('Regiao Nao definida', inplace=True)\n",
    "    \n",
    "else: \n",
    "    print(\"Todas as filiais foram mapeadas com sucesso.\")"
   ]
  },
  {
   "cell_type": "code",
   "execution_count": 12,
   "id": "bb7dd5f0",
   "metadata": {},
   "outputs": [
    {
     "name": "stdout",
     "output_type": "stream",
     "text": [
      "Coluna 'Empresa' criada com sucesso.\n",
      "\n",
      "Distribuição de registros por Empresa:\n",
      "Empresa\n",
      "Referência    18898\n",
      "Rateio         3728\n",
      "Gritsch        2866\n",
      "Name: count, dtype: int64\n",
      "\n",
      "Amostra dos dados para confirmar a lógica:\n",
      "                  FILIAL     Empresa\n",
      "692        GRITSCH - SNO     Gritsch\n",
      "0    REFERÊNCIA SALVADOR  Referência\n",
      "14          RATEIO - REF      Rateio\n"
     ]
    }
   ],
   "source": [
    "# Célula: Criação da Coluna 'Empresa' para o Dashboard\n",
    "\n",
    "import numpy as np\n",
    "import pandas as pd\n",
    "\n",
    "# Passo 1: Definir as condições e as escolhas para a criação da coluna 'Empresa'\n",
    "# A ordem aqui não é crítica, mas é bom manter a consistência.\n",
    "conditions = [\n",
    "    (df_fechamento['FILIAL'].str.contains('GRITSCH', case=False, na=False)),\n",
    "    (df_fechamento['FILIAL'].str.contains('REFERÊNCIA', case=False, na=False)),\n",
    "    (df_fechamento['FILIAL'].str.contains('RATEIO', case=False, na=False)),\n",
    "]\n",
    "\n",
    "# Passo 2: Definir os valores correspondentes para cada condição\n",
    "choices = [\n",
    "    'Gritsch',\n",
    "    'Referência',\n",
    "    'Rateio',\n",
    "]\n",
    "\n",
    "# Passo 3: Usar np.select para criar a coluna 'Empresa'\n",
    "# O 'default' será 'Outro' para qualquer filial que não se encaixe nas categorias.\n",
    "df_fechamento['Empresa'] = np.select(conditions, choices, default='Outro')\n",
    "\n",
    "\n",
    "# Passo 4: Verificar o resultado da criação da coluna\n",
    "print(\"Coluna 'Empresa' criada com sucesso.\")\n",
    "print(\"\\nDistribuição de registros por Empresa:\")\n",
    "print(df_fechamento['Empresa'].value_counts())\n",
    "\n",
    "\n",
    "# Passo 5: Verificar se a lógica funcionou com exemplos específicos\n",
    "print(\"\\nAmostra dos dados para confirmar a lógica:\")\n",
    "amostra_gritsch = df_fechamento[df_fechamento['FILIAL'].str.contains('GRITSCH', na=False)].head(1)\n",
    "amostra_referencia = df_fechamento[df_fechamento['FILIAL'].str.contains('REFERÊNCIA', na=False)].head(1)\n",
    "amostra_rateio = df_fechamento[df_fechamento['FILIAL'].str.contains('RATEIO', na=False)].head(1)\n",
    "\n",
    "amostra_final = pd.concat([\n",
    "    amostra_gritsch, \n",
    "    amostra_referencia, \n",
    "    amostra_rateio\n",
    "])\n",
    "\n",
    "print(amostra_final[['FILIAL', 'Empresa']])\n"
   ]
  },
  {
   "cell_type": "code",
   "execution_count": 13,
   "id": "ddcfa65b",
   "metadata": {},
   "outputs": [
    {
     "data": {
      "application/vnd.plotly.v1+json": {
       "config": {
        "plotlyServerURL": "https://plot.ly"
       },
       "data": [
        {
         "hovertemplate": "Empresa=Gritsch<br>Mês/Ano=%{x}<br>Custo Total (R$)=%{y}<extra></extra>",
         "legendgroup": "Gritsch",
         "marker": {
          "color": "#636efa",
          "pattern": {
           "shape": ""
          }
         },
         "name": "Gritsch",
         "orientation": "v",
         "showlegend": true,
         "textposition": "auto",
         "type": "bar",
         "x": [
          "2025-07"
         ],
         "xaxis": "x",
         "y": {
          "bdata": "ZmZm5qPVJEE=",
          "dtype": "f8"
         },
         "yaxis": "y"
        },
        {
         "hovertemplate": "Empresa=Rateio<br>Mês/Ano=%{x}<br>Custo Total (R$)=%{y}<extra></extra>",
         "legendgroup": "Rateio",
         "marker": {
          "color": "#EF553B",
          "pattern": {
           "shape": ""
          }
         },
         "name": "Rateio",
         "orientation": "v",
         "showlegend": true,
         "textposition": "auto",
         "type": "bar",
         "x": [
          "2025-07"
         ],
         "xaxis": "x",
         "y": {
          "bdata": "SOF6lJ+SIEE=",
          "dtype": "f8"
         },
         "yaxis": "y"
        },
        {
         "hovertemplate": "Empresa=Referência<br>Mês/Ano=%{x}<br>Custo Total (R$)=%{y}<extra></extra>",
         "legendgroup": "Referência",
         "marker": {
          "color": "#00cc96",
          "pattern": {
           "shape": ""
          }
         },
         "name": "Referência",
         "orientation": "v",
         "showlegend": true,
         "textposition": "auto",
         "type": "bar",
         "x": [
          "2025-07"
         ],
         "xaxis": "x",
         "y": {
          "bdata": "XI/CNfvQSEE=",
          "dtype": "f8"
         },
         "yaxis": "y"
        }
       ],
       "layout": {
        "barmode": "relative",
        "legend": {
         "title": {
          "text": "Empresa"
         },
         "tracegroupgap": 0
        },
        "template": {
         "data": {
          "bar": [
           {
            "error_x": {
             "color": "#2a3f5f"
            },
            "error_y": {
             "color": "#2a3f5f"
            },
            "marker": {
             "line": {
              "color": "#E5ECF6",
              "width": 0.5
             },
             "pattern": {
              "fillmode": "overlay",
              "size": 10,
              "solidity": 0.2
             }
            },
            "type": "bar"
           }
          ],
          "barpolar": [
           {
            "marker": {
             "line": {
              "color": "#E5ECF6",
              "width": 0.5
             },
             "pattern": {
              "fillmode": "overlay",
              "size": 10,
              "solidity": 0.2
             }
            },
            "type": "barpolar"
           }
          ],
          "carpet": [
           {
            "aaxis": {
             "endlinecolor": "#2a3f5f",
             "gridcolor": "white",
             "linecolor": "white",
             "minorgridcolor": "white",
             "startlinecolor": "#2a3f5f"
            },
            "baxis": {
             "endlinecolor": "#2a3f5f",
             "gridcolor": "white",
             "linecolor": "white",
             "minorgridcolor": "white",
             "startlinecolor": "#2a3f5f"
            },
            "type": "carpet"
           }
          ],
          "choropleth": [
           {
            "colorbar": {
             "outlinewidth": 0,
             "ticks": ""
            },
            "type": "choropleth"
           }
          ],
          "contour": [
           {
            "colorbar": {
             "outlinewidth": 0,
             "ticks": ""
            },
            "colorscale": [
             [
              0,
              "#0d0887"
             ],
             [
              0.1111111111111111,
              "#46039f"
             ],
             [
              0.2222222222222222,
              "#7201a8"
             ],
             [
              0.3333333333333333,
              "#9c179e"
             ],
             [
              0.4444444444444444,
              "#bd3786"
             ],
             [
              0.5555555555555556,
              "#d8576b"
             ],
             [
              0.6666666666666666,
              "#ed7953"
             ],
             [
              0.7777777777777778,
              "#fb9f3a"
             ],
             [
              0.8888888888888888,
              "#fdca26"
             ],
             [
              1,
              "#f0f921"
             ]
            ],
            "type": "contour"
           }
          ],
          "contourcarpet": [
           {
            "colorbar": {
             "outlinewidth": 0,
             "ticks": ""
            },
            "type": "contourcarpet"
           }
          ],
          "heatmap": [
           {
            "colorbar": {
             "outlinewidth": 0,
             "ticks": ""
            },
            "colorscale": [
             [
              0,
              "#0d0887"
             ],
             [
              0.1111111111111111,
              "#46039f"
             ],
             [
              0.2222222222222222,
              "#7201a8"
             ],
             [
              0.3333333333333333,
              "#9c179e"
             ],
             [
              0.4444444444444444,
              "#bd3786"
             ],
             [
              0.5555555555555556,
              "#d8576b"
             ],
             [
              0.6666666666666666,
              "#ed7953"
             ],
             [
              0.7777777777777778,
              "#fb9f3a"
             ],
             [
              0.8888888888888888,
              "#fdca26"
             ],
             [
              1,
              "#f0f921"
             ]
            ],
            "type": "heatmap"
           }
          ],
          "histogram": [
           {
            "marker": {
             "pattern": {
              "fillmode": "overlay",
              "size": 10,
              "solidity": 0.2
             }
            },
            "type": "histogram"
           }
          ],
          "histogram2d": [
           {
            "colorbar": {
             "outlinewidth": 0,
             "ticks": ""
            },
            "colorscale": [
             [
              0,
              "#0d0887"
             ],
             [
              0.1111111111111111,
              "#46039f"
             ],
             [
              0.2222222222222222,
              "#7201a8"
             ],
             [
              0.3333333333333333,
              "#9c179e"
             ],
             [
              0.4444444444444444,
              "#bd3786"
             ],
             [
              0.5555555555555556,
              "#d8576b"
             ],
             [
              0.6666666666666666,
              "#ed7953"
             ],
             [
              0.7777777777777778,
              "#fb9f3a"
             ],
             [
              0.8888888888888888,
              "#fdca26"
             ],
             [
              1,
              "#f0f921"
             ]
            ],
            "type": "histogram2d"
           }
          ],
          "histogram2dcontour": [
           {
            "colorbar": {
             "outlinewidth": 0,
             "ticks": ""
            },
            "colorscale": [
             [
              0,
              "#0d0887"
             ],
             [
              0.1111111111111111,
              "#46039f"
             ],
             [
              0.2222222222222222,
              "#7201a8"
             ],
             [
              0.3333333333333333,
              "#9c179e"
             ],
             [
              0.4444444444444444,
              "#bd3786"
             ],
             [
              0.5555555555555556,
              "#d8576b"
             ],
             [
              0.6666666666666666,
              "#ed7953"
             ],
             [
              0.7777777777777778,
              "#fb9f3a"
             ],
             [
              0.8888888888888888,
              "#fdca26"
             ],
             [
              1,
              "#f0f921"
             ]
            ],
            "type": "histogram2dcontour"
           }
          ],
          "mesh3d": [
           {
            "colorbar": {
             "outlinewidth": 0,
             "ticks": ""
            },
            "type": "mesh3d"
           }
          ],
          "parcoords": [
           {
            "line": {
             "colorbar": {
              "outlinewidth": 0,
              "ticks": ""
             }
            },
            "type": "parcoords"
           }
          ],
          "pie": [
           {
            "automargin": true,
            "type": "pie"
           }
          ],
          "scatter": [
           {
            "fillpattern": {
             "fillmode": "overlay",
             "size": 10,
             "solidity": 0.2
            },
            "type": "scatter"
           }
          ],
          "scatter3d": [
           {
            "line": {
             "colorbar": {
              "outlinewidth": 0,
              "ticks": ""
             }
            },
            "marker": {
             "colorbar": {
              "outlinewidth": 0,
              "ticks": ""
             }
            },
            "type": "scatter3d"
           }
          ],
          "scattercarpet": [
           {
            "marker": {
             "colorbar": {
              "outlinewidth": 0,
              "ticks": ""
             }
            },
            "type": "scattercarpet"
           }
          ],
          "scattergeo": [
           {
            "marker": {
             "colorbar": {
              "outlinewidth": 0,
              "ticks": ""
             }
            },
            "type": "scattergeo"
           }
          ],
          "scattergl": [
           {
            "marker": {
             "colorbar": {
              "outlinewidth": 0,
              "ticks": ""
             }
            },
            "type": "scattergl"
           }
          ],
          "scattermap": [
           {
            "marker": {
             "colorbar": {
              "outlinewidth": 0,
              "ticks": ""
             }
            },
            "type": "scattermap"
           }
          ],
          "scattermapbox": [
           {
            "marker": {
             "colorbar": {
              "outlinewidth": 0,
              "ticks": ""
             }
            },
            "type": "scattermapbox"
           }
          ],
          "scatterpolar": [
           {
            "marker": {
             "colorbar": {
              "outlinewidth": 0,
              "ticks": ""
             }
            },
            "type": "scatterpolar"
           }
          ],
          "scatterpolargl": [
           {
            "marker": {
             "colorbar": {
              "outlinewidth": 0,
              "ticks": ""
             }
            },
            "type": "scatterpolargl"
           }
          ],
          "scatterternary": [
           {
            "marker": {
             "colorbar": {
              "outlinewidth": 0,
              "ticks": ""
             }
            },
            "type": "scatterternary"
           }
          ],
          "surface": [
           {
            "colorbar": {
             "outlinewidth": 0,
             "ticks": ""
            },
            "colorscale": [
             [
              0,
              "#0d0887"
             ],
             [
              0.1111111111111111,
              "#46039f"
             ],
             [
              0.2222222222222222,
              "#7201a8"
             ],
             [
              0.3333333333333333,
              "#9c179e"
             ],
             [
              0.4444444444444444,
              "#bd3786"
             ],
             [
              0.5555555555555556,
              "#d8576b"
             ],
             [
              0.6666666666666666,
              "#ed7953"
             ],
             [
              0.7777777777777778,
              "#fb9f3a"
             ],
             [
              0.8888888888888888,
              "#fdca26"
             ],
             [
              1,
              "#f0f921"
             ]
            ],
            "type": "surface"
           }
          ],
          "table": [
           {
            "cells": {
             "fill": {
              "color": "#EBF0F8"
             },
             "line": {
              "color": "white"
             }
            },
            "header": {
             "fill": {
              "color": "#C8D4E3"
             },
             "line": {
              "color": "white"
             }
            },
            "type": "table"
           }
          ]
         },
         "layout": {
          "annotationdefaults": {
           "arrowcolor": "#2a3f5f",
           "arrowhead": 0,
           "arrowwidth": 1
          },
          "autotypenumbers": "strict",
          "coloraxis": {
           "colorbar": {
            "outlinewidth": 0,
            "ticks": ""
           }
          },
          "colorscale": {
           "diverging": [
            [
             0,
             "#8e0152"
            ],
            [
             0.1,
             "#c51b7d"
            ],
            [
             0.2,
             "#de77ae"
            ],
            [
             0.3,
             "#f1b6da"
            ],
            [
             0.4,
             "#fde0ef"
            ],
            [
             0.5,
             "#f7f7f7"
            ],
            [
             0.6,
             "#e6f5d0"
            ],
            [
             0.7,
             "#b8e186"
            ],
            [
             0.8,
             "#7fbc41"
            ],
            [
             0.9,
             "#4d9221"
            ],
            [
             1,
             "#276419"
            ]
           ],
           "sequential": [
            [
             0,
             "#0d0887"
            ],
            [
             0.1111111111111111,
             "#46039f"
            ],
            [
             0.2222222222222222,
             "#7201a8"
            ],
            [
             0.3333333333333333,
             "#9c179e"
            ],
            [
             0.4444444444444444,
             "#bd3786"
            ],
            [
             0.5555555555555556,
             "#d8576b"
            ],
            [
             0.6666666666666666,
             "#ed7953"
            ],
            [
             0.7777777777777778,
             "#fb9f3a"
            ],
            [
             0.8888888888888888,
             "#fdca26"
            ],
            [
             1,
             "#f0f921"
            ]
           ],
           "sequentialminus": [
            [
             0,
             "#0d0887"
            ],
            [
             0.1111111111111111,
             "#46039f"
            ],
            [
             0.2222222222222222,
             "#7201a8"
            ],
            [
             0.3333333333333333,
             "#9c179e"
            ],
            [
             0.4444444444444444,
             "#bd3786"
            ],
            [
             0.5555555555555556,
             "#d8576b"
            ],
            [
             0.6666666666666666,
             "#ed7953"
            ],
            [
             0.7777777777777778,
             "#fb9f3a"
            ],
            [
             0.8888888888888888,
             "#fdca26"
            ],
            [
             1,
             "#f0f921"
            ]
           ]
          },
          "colorway": [
           "#636efa",
           "#EF553B",
           "#00cc96",
           "#ab63fa",
           "#FFA15A",
           "#19d3f3",
           "#FF6692",
           "#B6E880",
           "#FF97FF",
           "#FECB52"
          ],
          "font": {
           "color": "#2a3f5f"
          },
          "geo": {
           "bgcolor": "white",
           "lakecolor": "white",
           "landcolor": "#E5ECF6",
           "showlakes": true,
           "showland": true,
           "subunitcolor": "white"
          },
          "hoverlabel": {
           "align": "left"
          },
          "hovermode": "closest",
          "mapbox": {
           "style": "light"
          },
          "paper_bgcolor": "white",
          "plot_bgcolor": "#E5ECF6",
          "polar": {
           "angularaxis": {
            "gridcolor": "white",
            "linecolor": "white",
            "ticks": ""
           },
           "bgcolor": "#E5ECF6",
           "radialaxis": {
            "gridcolor": "white",
            "linecolor": "white",
            "ticks": ""
           }
          },
          "scene": {
           "xaxis": {
            "backgroundcolor": "#E5ECF6",
            "gridcolor": "white",
            "gridwidth": 2,
            "linecolor": "white",
            "showbackground": true,
            "ticks": "",
            "zerolinecolor": "white"
           },
           "yaxis": {
            "backgroundcolor": "#E5ECF6",
            "gridcolor": "white",
            "gridwidth": 2,
            "linecolor": "white",
            "showbackground": true,
            "ticks": "",
            "zerolinecolor": "white"
           },
           "zaxis": {
            "backgroundcolor": "#E5ECF6",
            "gridcolor": "white",
            "gridwidth": 2,
            "linecolor": "white",
            "showbackground": true,
            "ticks": "",
            "zerolinecolor": "white"
           }
          },
          "shapedefaults": {
           "line": {
            "color": "#2a3f5f"
           }
          },
          "ternary": {
           "aaxis": {
            "gridcolor": "white",
            "linecolor": "white",
            "ticks": ""
           },
           "baxis": {
            "gridcolor": "white",
            "linecolor": "white",
            "ticks": ""
           },
           "bgcolor": "#E5ECF6",
           "caxis": {
            "gridcolor": "white",
            "linecolor": "white",
            "ticks": ""
           }
          },
          "title": {
           "x": 0.05
          },
          "xaxis": {
           "automargin": true,
           "gridcolor": "white",
           "linecolor": "white",
           "ticks": "",
           "title": {
            "standoff": 15
           },
           "zerolinecolor": "white",
           "zerolinewidth": 2
          },
          "yaxis": {
           "automargin": true,
           "gridcolor": "white",
           "linecolor": "white",
           "ticks": "",
           "title": {
            "standoff": 15
           },
           "zerolinecolor": "white",
           "zerolinewidth": 2
          }
         }
        },
        "title": {
         "text": "Custo Mensal por Empresa"
        },
        "xaxis": {
         "anchor": "y",
         "domain": [
          0,
          1
         ],
         "title": {
          "text": "Mês/Ano"
         }
        },
        "yaxis": {
         "anchor": "x",
         "domain": [
          0,
          1
         ],
         "title": {
          "text": "Custo Total (R$)"
         }
        }
       }
      }
     },
     "metadata": {},
     "output_type": "display_data"
    }
   ],
   "source": [
    "# Célula: Análise de Custo por Empresa\n",
    "\n",
    "import plotly.express as px\n",
    "\n",
    "# Garantir que a coluna de valor não tem nulos\n",
    "df_fechamento['ValorTotal'] = df_fechamento['ValorTotal'].fillna(0)\n",
    "\n",
    "# 1. Agregando os dados por Empresa e Mês/Ano\n",
    "df_custo_por_empresa = df_fechamento.groupby(['Mes/Ano', 'Empresa']).agg(\n",
    "    CustoTotal=('ValorTotal', 'sum')\n",
    ").reset_index()\n",
    "\n",
    "# Remover linhas onde o custo é zero\n",
    "df_custo_por_empresa = df_custo_por_empresa[df_custo_por_empresa['CustoTotal'] != 0]\n",
    "\n",
    "# 2. Preparar a coluna de data para o gráfico\n",
    "df_custo_por_empresa['Mes/Ano_str'] = df_custo_por_empresa['Mes/Ano'].astype(str)\n",
    "\n",
    "# 3. Criar o gráfico\n",
    "fig_por_empresa = px.bar(\n",
    "    df_custo_por_empresa.sort_values('Mes/Ano_str'),\n",
    "    x='Mes/Ano_str',\n",
    "    y='CustoTotal',\n",
    "    color='Empresa', # Usando a nova coluna 'Empresa'\n",
    "    title='Custo Mensal por Empresa',\n",
    "    labels={'Mes/Ano_str': 'Mês/Ano', 'CustoTotal': 'Custo Total (R$)'}\n",
    ")\n",
    "fig_por_empresa.show()\n"
   ]
  }
 ],
 "metadata": {
  "kernelspec": {
   "display_name": ".venv",
   "language": "python",
   "name": "python3"
  },
  "language_info": {
   "codemirror_mode": {
    "name": "ipython",
    "version": 3
   },
   "file_extension": ".py",
   "mimetype": "text/x-python",
   "name": "python",
   "nbconvert_exporter": "python",
   "pygments_lexer": "ipython3",
   "version": "3.13.7"
  }
 },
 "nbformat": 4,
 "nbformat_minor": 5
}
